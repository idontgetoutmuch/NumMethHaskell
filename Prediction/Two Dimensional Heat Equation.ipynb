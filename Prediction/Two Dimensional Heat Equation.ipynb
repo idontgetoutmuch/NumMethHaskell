{
 "cells": [
  {
   "cell_type": "markdown",
   "metadata": {},
   "source": [
    "# A Biological Example"
   ]
  },
  {
   "cell_type": "markdown",
   "metadata": {},
   "source": [
    "Suppose we are observing exponential growth $\\dot{y} = \\theta y$ but we don't know $\\theta$ and wish to estimate it. We could assume $\\theta \\sim {\\cal{N}}(\\mu, \\sigma^2)$ and use something like Markov Chain Monte Carlo or Hamiltonian Monte Carlo and any observations to infer $\\mu$ and $\\sigma$. However, we might want to model that the further we go into the future, the less we know about $\\theta$. We can write our system as as\n",
    "\n",
    "$$\n",
    "\\begin{aligned}\n",
    "\\mathrm{d}y & = \\theta y\\mathrm{d}t \\\\\n",
    "\\mathrm{d}\\theta & = \\sigma\\mathrm{d}W_t\n",
    "\\end{aligned}\n",
    "$$\n",
    "\n",
    "where $W_t$ is Brownian Motion."
   ]
  },
  {
   "cell_type": "markdown",
   "metadata": {},
   "source": [
    "# Fokker-Planck"
   ]
  },
  {
   "cell_type": "markdown",
   "metadata": {},
   "source": [
    "$$\n",
    "d \\mathbf{X}_{t}=\\boldsymbol{\\mu}\\left(\\mathbf{X}_{t}, t\\right) d t+\\boldsymbol{\\sigma}\\left(\\mathbf{X}_{t}, t\\right) d \\mathbf{W}_{t}\n",
    "$$"
   ]
  },
  {
   "cell_type": "markdown",
   "metadata": {},
   "source": [
    "$$\n",
    "\\frac{\\partial}{\\partial t} p(t, \\mathbf{x})+\\sum_{k=1}^{n} \\frac{\\partial}{\\partial x_{k}}\\left({\\mu}_{k}(t, \\mathbf{x}) p(t, \\mathbf{x})\\right)=\\frac{1}{2} \\sum_{j=1, k=1}^{n} \\frac{\\partial^{2}}{\\partial x_{j} \\partial x_{k}}\\left[\\left(\\sigma(t, \\mathbf{x}) \\sigma^{T}(t, \\mathbf{x})\\right)_{j k} p(t, \\mathbf{x})\\right]\n",
    "$$"
   ]
  },
  {
   "cell_type": "markdown",
   "metadata": {},
   "source": [
    "For our particular system we have"
   ]
  },
  {
   "cell_type": "markdown",
   "metadata": {},
   "source": [
    "$$\n",
    "\\frac{\\partial}{\\partial t} p(t, y, \\theta)+\\frac{\\partial}{\\partial y}\\left({\\mu}_{1}(t, y, \\theta) p(t, y, \\theta)\\right)+\\frac{\\partial}{\\partial \\theta}\\left({\\mu}_{2}(t, y, \\theta) p(t, y, \\theta)\\right)=\\frac{1}{2}\\left[\\sigma_{y}^{2} \\frac{\\partial^{2}}{\\partial y^{2}} p(t, y, \\theta)+\\sigma_{\\theta}^{2} \\frac{\\partial^{2}}{\\partial \\theta^{2}} p(t, y, \\theta)\\right]\n",
    "$$"
   ]
  },
  {
   "cell_type": "markdown",
   "metadata": {},
   "source": [
    "And since $\\mu_1 = \\theta y$, $\\mu_2 = 0$ and $\\sigma_y = 0$ this further simplifies to"
   ]
  },
  {
   "cell_type": "markdown",
   "metadata": {},
   "source": [
    "$$\n",
    "\\frac{\\partial}{\\partial t} p(t, y, \\theta)+\\frac{\\partial}{\\partial y}(\\theta y p(t, y, \\theta))=\\sigma_{\\theta}^{2} \\frac{\\partial^{2}}{\\partial \\theta^{2}} p(t, y, \\theta)\n",
    "$$"
   ]
  },
  {
   "cell_type": "markdown",
   "metadata": {},
   "source": [
    "We can note two things:\n",
    "\n",
    "* This is an advection / diffusion equation with two spatial variables ($y$ and $\\theta$).\n",
    "* If $\\sigma_\\theta = 0$ then this is a transport (advection?) equation."
   ]
  },
  {
   "cell_type": "markdown",
   "metadata": {},
   "source": [
    "$$\n",
    "\\frac{\\partial}{\\partial t} p(t, y, \\theta)+\\frac{\\partial}{\\partial y}(\\theta y p(t, y, \\theta))=0\n",
    "$$"
   ]
  },
  {
   "cell_type": "markdown",
   "metadata": {},
   "source": [
    "Notice that there is nothing stochastic about the biology but we\n",
    "express our uncertainty about the parameter by making it a\n",
    "time-varying stochastic variable which says the further we go into the\n",
    "future the less certain we are about it.\n",
    "\n",
    "We are going to turn this into a Fokker-Planck equation which we can\n",
    "then solve using e.g. the method of lines. But before turning to\n",
    "Fokker-Planck, let's show that we can indeed solve a diffusion\n",
    "equation using the method of lines."
   ]
  },
  {
   "cell_type": "markdown",
   "metadata": {},
   "source": [
    "We want to solve the heat equation\n",
    "\n",
    "$$\n",
    "\\frac{\\partial u}{\\partial t} = k_x\\frac{\\partial^2 u}{\\partial x^2} + k_y\\frac{\\partial^2 u}{\\partial x^2}\n",
    "$$"
   ]
  },
  {
   "cell_type": "markdown",
   "metadata": {},
   "source": [
    "The spatial derivatives are computed using second-order centered differences, with the data distributed over $n_x \\times n_y$ points on a uniform spatial grid."
   ]
  },
  {
   "cell_type": "markdown",
   "metadata": {},
   "source": [
    "$$\n",
    "u_{i\\,j}(t) \\triangleq u\\left(t, x_{i}, y_{j}\\right), \\quad x_{i} \\triangleq i \\Delta x, \\quad 0 \\leq i \\leq n_x+1, \\quad  y_{j} \\triangleq j \\Delta y, \\quad 0 \\leq j \\leq n_y+1\n",
    "$$"
   ]
  },
  {
   "cell_type": "markdown",
   "metadata": {},
   "source": [
    "$$\n",
    "\\begin{align}\n",
    "u_{x x} &= \\frac{u_{i+1\\,j}-2 u_{i\\,j}+u_{i-1\\,j}}{\\Delta x^{2}} \\\\\n",
    "u_{y y} &= \\frac{u_{i\\,j+1}-2 u_{i\\,j}+u_{i\\,j-1}}{\\Delta y^{2}}\n",
    "\\end{align}\n",
    "$$"
   ]
  },
  {
   "cell_type": "markdown",
   "metadata": {},
   "source": [
    "$$\n",
    "\\dot{u}_{i\\, j} = \\frac{k_x}{(\\Delta x)^2}({u_{i+1\\,j}-2 u_{i\\,j}+u_{i-1\\,j}})\n",
    "                + \\frac{k_y}{(\\Delta y)^2}({u_{i\\,j+1}-2 u_{i\\,j}+u_{i\\,j-1}})\n",
    "$$"
   ]
  },
  {
   "cell_type": "markdown",
   "metadata": {},
   "source": [
    "\n",
    "\n",
    "$$\n",
    "\\dot{u}_{i\\, j} = \\sum_{k=0}^{n+1}\\sum_{l=0}^{n+1}A_{i\\,j\\,k\\,l} u_{k\\,l}\n",
    "$$\n",
    "\n",
    "$$\n",
    "\\begin{align}\n",
    "A_{0\\,j\\,k\\,l} &= 0 \\\\\n",
    "A_{i\\,j\\,i-1\\,j} &= 1 \\\\\n",
    "A_{i\\,j\\,i\\,j} &= -2 \\\\\n",
    "A_{i\\,j\\,i+1\\,j} &= 1 \\\\\n",
    "A_{n+1\\,j\\,k\\,l} &= 0 \\\\\n",
    "\\end{align}\n",
    "$$"
   ]
  },
  {
   "cell_type": "markdown",
   "metadata": {},
   "source": [
    "We could try using [Naperian functors and APL-like programming in Haskell](https://www.cs.ox.ac.uk/people/jeremy.gibbons/publications/aplicative.pdf) via this [library](http://hackage.haskell.org/package/Naperian). But the performance is terrible (or it could be that the author's implementation was terrible). Moreover, applied mathematicans tend to think of everything as matrices and vectors. But flattening the above tensor operation into a matrix operation is not entirely trivial. Although the Haskell Ecosystem's support for symbolic mathematics is very rudimentary, we can use what there is to convince ourselves that we haven't made too many errors in the transcription."
   ]
  },
  {
   "cell_type": "code",
   "execution_count": 41,
   "metadata": {},
   "outputs": [],
   "source": [
    "{-# LANGUAGE DataKinds           #-}\n",
    "{-# LANGUAGE OverloadedLists     #-}\n",
    "{-# LANGUAGE ScopedTypeVariables #-}\n",
    "{-# LANGUAGE FlexibleContexts    #-}\n",
    "{-# LANGUAGE FlexibleInstances   #-}\n",
    "{-# LANGUAGE MultiParamTypeClasses #-}\n",
    "{-# LANGUAGE GADTs               #-}\n",
    "{-# LANGUAGE TypeApplications    #-}\n",
    "{-# LANGUAGE TypeOperators       #-}\n",
    "\n",
    "import Data.Maybe\n",
    "import Data.Number.Symbolic\n",
    "import qualified Data.Number.Symbolic as Sym\n",
    "import Data.Proxy\n",
    "\n",
    "import qualified Naperian as N\n",
    "import qualified Data.Foldable as F\n",
    "import           Control.Applicative ( liftA2 )\n",
    "import qualified GHC.TypeLits as M\n",
    "import           Data.Functor\n",
    "import           Data.List.Split\n",
    "\n",
    "import           Numeric.Sundials.ARKode.ODE\n",
    "import           Numeric.LinearAlgebra"
   ]
  },
  {
   "cell_type": "markdown",
   "metadata": {},
   "source": [
    "Heat conductivity coefficients:"
   ]
  },
  {
   "cell_type": "code",
   "execution_count": 39,
   "metadata": {},
   "outputs": [],
   "source": [
    "kx, ky :: Floating a => a\n",
    "kx = 0.5\n",
    "ky = 0.75"
   ]
  },
  {
   "cell_type": "code",
   "execution_count": 5,
   "metadata": {},
   "outputs": [],
   "source": [
    "-- spatial mesh size\n",
    "nx, ny :: Int\n",
    "nx = 30\n",
    "ny = 60"
   ]
  },
  {
   "cell_type": "code",
   "execution_count": 7,
   "metadata": {},
   "outputs": [],
   "source": [
    "-- x mesh spacing\n",
    "-- y mesh spacing\n",
    "dx :: Floating a => a\n",
    "dx = 1 / (fromIntegral nx - 1)\n",
    "\n",
    "dy :: Floating a => a\n",
    "dy = 1 / (fromIntegral ny - 1)\n",
    "\n",
    "c1, c2 :: Floating a => a\n",
    "c1 = kx/dx/dx\n",
    "c2 = ky/dy/dy\n",
    "\n",
    "cc4' :: forall b m n . (M.KnownNat m, M.KnownNat n, Num b) =>\n",
    "        N.Hyper '[N.Vector n, N.Vector m, N.Vector n, N.Vector m] b\n",
    "cc4' = N.Prism $ N.Prism $ N.Prism $ N.Prism $ N.Scalar $\n",
    "      N.viota @m <&> (\\(N.Fin x) ->\n",
    "      N.viota @n <&> (\\(N.Fin w) ->\n",
    "      N.viota @m <&> (\\(N.Fin v) ->\n",
    "      N.viota @n <&> (\\(N.Fin u) ->\n",
    "      (f m n x w v u)))))\n",
    "        where\n",
    "          m = fromIntegral $ M.natVal (undefined :: Proxy m)\n",
    "          n = fromIntegral $ M.natVal (undefined :: Proxy n)\n",
    "          f m n i j k l | i == 0               = 0\n",
    "                        | j == 0               = 0\n",
    "                        | i == n - 1           = 0\n",
    "                        | j == m - 1           = 0\n",
    "                        | k == i - 1 && l == j = 1\n",
    "                        | k == i     && l == j = -2\n",
    "                        | k == i + 1 && l == j = 1\n",
    "                        | otherwise            = 0"
   ]
  },
  {
   "cell_type": "code",
   "execution_count": 8,
   "metadata": {},
   "outputs": [],
   "source": [
    "cc5' :: forall a m n . (M.KnownNat m, M.KnownNat n, Floating a) =>\n",
    "        N.Hyper '[N.Vector n, N.Vector m, N.Vector n, N.Vector m] a\n",
    "cc5' = N.binary (*) (N.Scalar c2) cc4'\n",
    "\n",
    "cc5Sym' :: forall a m n . (M.KnownNat m, M.KnownNat n, Floating a, Eq a) =>\n",
    "          N.Hyper '[N.Vector n, N.Vector m, N.Vector n, N.Vector m] (Sym a)\n",
    "cc5Sym' = N.binary (*) (N.Scalar $ var \"c2\") cc4'"
   ]
  },
  {
   "cell_type": "code",
   "execution_count": 9,
   "metadata": {},
   "outputs": [],
   "source": [
    "yy4' :: forall b m n . (M.KnownNat m, M.KnownNat n, Num b) =>\n",
    "        N.Hyper '[N.Vector n, N.Vector m, N.Vector n, N.Vector m] b\n",
    "yy4' = N.Prism $ N.Prism $ N.Prism $ N.Prism $ N.Scalar $\n",
    "      N.viota @m <&> (\\(N.Fin x) ->\n",
    "      N.viota @n <&> (\\(N.Fin w) ->\n",
    "      N.viota @m <&> (\\(N.Fin v) ->\n",
    "      N.viota @n <&> (\\(N.Fin u) ->\n",
    "      (f m n x w v u)))))\n",
    "        where\n",
    "          m = fromIntegral $ M.natVal (undefined :: Proxy m)\n",
    "          n = fromIntegral $ M.natVal (undefined :: Proxy n)\n",
    "          f :: Int -> Int -> Int -> Int -> Int -> Int -> b\n",
    "          f m n i j k l | i == 0                   = 0\n",
    "                        | j == 0                   = 0\n",
    "                        | i == n - 1               = 0\n",
    "                        | j == m - 1               = 0\n",
    "                        | k == i     && l == j - 1 = 1\n",
    "                        | k == i     && l == j     = -2\n",
    "                        | k == i     && l == j + 1 = 1\n",
    "                        | otherwise                = 0\n",
    "\n",
    "yy5' :: forall a m n . (M.KnownNat m, M.KnownNat n, Floating a) =>\n",
    "        N.Hyper '[N.Vector n, N.Vector m, N.Vector n, N.Vector m] a\n",
    "yy5' = N.binary (*) (N.Scalar c1) yy4'\n",
    "\n",
    "yy5Sym' :: forall a m n . (M.KnownNat m, M.KnownNat n, Floating a, Eq a) =>\n",
    "           N.Hyper '[N.Vector n, N.Vector m, N.Vector n, N.Vector m] (Sym a)\n",
    "yy5Sym' = N.binary (*) (N.Scalar $ var \"c1\") yy4'"
   ]
  },
  {
   "cell_type": "code",
   "execution_count": 33,
   "metadata": {},
   "outputs": [],
   "source": [
    "ccSym5 = cc5Sym' @Double @4 @5\n",
    "yy5Sym = yy5Sym' @Double @4 @5"
   ]
  },
  {
   "cell_type": "code",
   "execution_count": 32,
   "metadata": {},
   "outputs": [
    {
     "data": {
      "text/plain": [
       "<<<<0.0,0.0,0.0,0.0,0.0>,<0.0,0.0,0.0,0.0,0.0>,<0.0,0.0,0.0,0.0,0.0>,<0.0,0.0,0.0,0.0,0.0>>,<<0.0,0.0,0.0,0.0,0.0>,<0.0,0.0,0.0,0.0,0.0>,<0.0,0.0,0.0,0.0,0.0>,<0.0,0.0,0.0,0.0,0.0>>,<<0.0,0.0,0.0,0.0,0.0>,<0.0,0.0,0.0,0.0,0.0>,<0.0,0.0,0.0,0.0,0.0>,<0.0,0.0,0.0,0.0,0.0>>,<<0.0,0.0,0.0,0.0,0.0>,<0.0,0.0,0.0,0.0,0.0>,<0.0,0.0,0.0,0.0,0.0>,<0.0,0.0,0.0,0.0,0.0>>,<<0.0,0.0,0.0,0.0,0.0>,<0.0,0.0,0.0,0.0,0.0>,<0.0,0.0,0.0,0.0,0.0>,<0.0,0.0,0.0,0.0,0.0>>>,<<<0.0,0.0,0.0,0.0,0.0>,<0.0,0.0,0.0,0.0,0.0>,<0.0,0.0,0.0,0.0,0.0>,<0.0,0.0,0.0,0.0,0.0>>,<<0.0,c2,0.0,0.0,0.0>,<0.0,(-2.0)*c2,0.0,0.0,0.0>,<0.0,c2,0.0,0.0,0.0>,<0.0,0.0,0.0,0.0,0.0>>,<<0.0,0.0,c2,0.0,0.0>,<0.0,0.0,(-2.0)*c2,0.0,0.0>,<0.0,0.0,c2,0.0,0.0>,<0.0,0.0,0.0,0.0,0.0>>,<<0.0,0.0,0.0,0.0,0.0>,<0.0,0.0,0.0,0.0,0.0>,<0.0,0.0,0.0,0.0,0.0>,<0.0,0.0,0.0,0.0,0.0>>,<<0.0,0.0,0.0,0.0,c2>,<0.0,0.0,0.0,0.0,(-2.0)*c2>,<0.0,0.0,0.0,0.0,c2>,<0.0,0.0,0.0,0.0,0.0>>>,<<<0.0,0.0,0.0,0.0,0.0>,<0.0,0.0,0.0,0.0,0.0>,<0.0,0.0,0.0,0.0,0.0>,<0.0,0.0,0.0,0.0,0.0>>,<<0.0,0.0,0.0,0.0,0.0>,<0.0,c2,0.0,0.0,0.0>,<0.0,(-2.0)*c2,0.0,0.0,0.0>,<0.0,c2,0.0,0.0,0.0>>,<<0.0,0.0,0.0,0.0,0.0>,<0.0,0.0,c2,0.0,0.0>,<0.0,0.0,(-2.0)*c2,0.0,0.0>,<0.0,0.0,c2,0.0,0.0>>,<<0.0,0.0,0.0,0.0,0.0>,<0.0,0.0,0.0,0.0,0.0>,<0.0,0.0,0.0,0.0,0.0>,<0.0,0.0,0.0,0.0,0.0>>,<<0.0,0.0,0.0,0.0,0.0>,<0.0,0.0,0.0,0.0,c2>,<0.0,0.0,0.0,0.0,(-2.0)*c2>,<0.0,0.0,0.0,0.0,c2>>>,<<<0.0,0.0,0.0,0.0,0.0>,<0.0,0.0,0.0,0.0,0.0>,<0.0,0.0,0.0,0.0,0.0>,<0.0,0.0,0.0,0.0,0.0>>,<<0.0,0.0,0.0,0.0,0.0>,<0.0,0.0,0.0,0.0,0.0>,<0.0,c2,0.0,0.0,0.0>,<0.0,(-2.0)*c2,0.0,0.0,0.0>>,<<0.0,0.0,0.0,0.0,0.0>,<0.0,0.0,0.0,0.0,0.0>,<0.0,0.0,c2,0.0,0.0>,<0.0,0.0,(-2.0)*c2,0.0,0.0>>,<<0.0,0.0,0.0,0.0,0.0>,<0.0,0.0,0.0,0.0,0.0>,<0.0,0.0,0.0,0.0,0.0>,<0.0,0.0,0.0,0.0,0.0>>,<<0.0,0.0,0.0,0.0,0.0>,<0.0,0.0,0.0,0.0,0.0>,<0.0,0.0,0.0,0.0,c2>,<0.0,0.0,0.0,0.0,(-2.0)*c2>>>>"
      ]
     },
     "metadata": {},
     "output_type": "display_data"
    }
   ],
   "source": [
    "ccSym5"
   ]
  },
  {
   "cell_type": "code",
   "execution_count": 34,
   "metadata": {},
   "outputs": [
    {
     "data": {
      "text/plain": [
       "<<<<0.0,0.0,0.0,0.0,0.0>,<0.0,0.0,0.0,0.0,0.0>,<0.0,0.0,0.0,0.0,0.0>,<0.0,0.0,0.0,0.0,0.0>>,<<0.0,0.0,0.0,0.0,0.0>,<0.0,0.0,0.0,0.0,0.0>,<0.0,0.0,0.0,0.0,0.0>,<0.0,0.0,0.0,0.0,0.0>>,<<0.0,0.0,0.0,0.0,0.0>,<0.0,0.0,0.0,0.0,0.0>,<0.0,0.0,0.0,0.0,0.0>,<0.0,0.0,0.0,0.0,0.0>>,<<0.0,0.0,0.0,0.0,0.0>,<0.0,0.0,0.0,0.0,0.0>,<0.0,0.0,0.0,0.0,0.0>,<0.0,0.0,0.0,0.0,0.0>>,<<0.0,0.0,0.0,0.0,0.0>,<0.0,0.0,0.0,0.0,0.0>,<0.0,0.0,0.0,0.0,0.0>,<0.0,0.0,0.0,0.0,0.0>>>,<<<0.0,0.0,0.0,0.0,0.0>,<0.0,0.0,0.0,0.0,0.0>,<0.0,0.0,0.0,0.0,0.0>,<0.0,0.0,0.0,0.0,0.0>>,<<0.0,0.0,0.0,0.0,0.0>,<c1,(-2.0)*c1,c1,0.0,0.0>,<0.0,0.0,0.0,0.0,0.0>,<0.0,0.0,0.0,0.0,0.0>>,<<0.0,0.0,0.0,0.0,0.0>,<0.0,c1,(-2.0)*c1,c1,0.0>,<0.0,0.0,0.0,0.0,0.0>,<0.0,0.0,0.0,0.0,0.0>>,<<0.0,0.0,0.0,0.0,0.0>,<0.0,0.0,0.0,0.0,0.0>,<0.0,0.0,0.0,0.0,0.0>,<0.0,0.0,0.0,0.0,0.0>>,<<0.0,0.0,0.0,0.0,0.0>,<0.0,0.0,0.0,c1,(-2.0)*c1>,<0.0,0.0,0.0,0.0,0.0>,<0.0,0.0,0.0,0.0,0.0>>>,<<<0.0,0.0,0.0,0.0,0.0>,<0.0,0.0,0.0,0.0,0.0>,<0.0,0.0,0.0,0.0,0.0>,<0.0,0.0,0.0,0.0,0.0>>,<<0.0,0.0,0.0,0.0,0.0>,<0.0,0.0,0.0,0.0,0.0>,<c1,(-2.0)*c1,c1,0.0,0.0>,<0.0,0.0,0.0,0.0,0.0>>,<<0.0,0.0,0.0,0.0,0.0>,<0.0,0.0,0.0,0.0,0.0>,<0.0,c1,(-2.0)*c1,c1,0.0>,<0.0,0.0,0.0,0.0,0.0>>,<<0.0,0.0,0.0,0.0,0.0>,<0.0,0.0,0.0,0.0,0.0>,<0.0,0.0,0.0,0.0,0.0>,<0.0,0.0,0.0,0.0,0.0>>,<<0.0,0.0,0.0,0.0,0.0>,<0.0,0.0,0.0,0.0,0.0>,<0.0,0.0,0.0,c1,(-2.0)*c1>,<0.0,0.0,0.0,0.0,0.0>>>,<<<0.0,0.0,0.0,0.0,0.0>,<0.0,0.0,0.0,0.0,0.0>,<0.0,0.0,0.0,0.0,0.0>,<0.0,0.0,0.0,0.0,0.0>>,<<0.0,0.0,0.0,0.0,0.0>,<0.0,0.0,0.0,0.0,0.0>,<0.0,0.0,0.0,0.0,0.0>,<c1,(-2.0)*c1,c1,0.0,0.0>>,<<0.0,0.0,0.0,0.0,0.0>,<0.0,0.0,0.0,0.0,0.0>,<0.0,0.0,0.0,0.0,0.0>,<0.0,c1,(-2.0)*c1,c1,0.0>>,<<0.0,0.0,0.0,0.0,0.0>,<0.0,0.0,0.0,0.0,0.0>,<0.0,0.0,0.0,0.0,0.0>,<0.0,0.0,0.0,0.0,0.0>>,<<0.0,0.0,0.0,0.0,0.0>,<0.0,0.0,0.0,0.0,0.0>,<0.0,0.0,0.0,0.0,0.0>,<0.0,0.0,0.0,c1,(-2.0)*c1>>>>"
      ]
     },
     "metadata": {},
     "output_type": "display_data"
    }
   ],
   "source": [
    "yy5Sym"
   ]
  },
  {
   "cell_type": "code",
   "execution_count": 36,
   "metadata": {},
   "outputs": [
    {
     "data": {
      "text/plain": [
       "[[0.0,0.0,0.0,0.0,0.0,0.0,0.0,0.0,0.0,0.0,0.0,0.0,0.0,0.0,0.0,0.0,0.0,0.0,0.0,0.0],[0.0,0.0,0.0,0.0,0.0,0.0,0.0,0.0,0.0,0.0,0.0,0.0,0.0,0.0,0.0,0.0,0.0,0.0,0.0,0.0],[0.0,0.0,0.0,0.0,0.0,0.0,0.0,0.0,0.0,0.0,0.0,0.0,0.0,0.0,0.0,0.0,0.0,0.0,0.0,0.0],[0.0,0.0,0.0,0.0,0.0,0.0,0.0,0.0,0.0,0.0,0.0,0.0,0.0,0.0,0.0,0.0,0.0,0.0,0.0,0.0],[0.0,0.0,0.0,0.0,0.0,0.0,0.0,0.0,0.0,0.0,0.0,0.0,0.0,0.0,0.0,0.0,0.0,0.0,0.0,0.0],[0.0,0.0,0.0,0.0,0.0,0.0,0.0,0.0,0.0,0.0,0.0,0.0,0.0,0.0,0.0,0.0,0.0,0.0,0.0,0.0],[0.0,c2,0.0,0.0,0.0,c1,(-2.0)*c2+(-2.0)*c1,c1,0.0,0.0,0.0,c2,0.0,0.0,0.0,0.0,0.0,0.0,0.0,0.0],[0.0,0.0,c2,0.0,0.0,0.0,c1,(-2.0)*c2+(-2.0)*c1,c1,0.0,0.0,0.0,c2,0.0,0.0,0.0,0.0,0.0,0.0,0.0],[0.0,0.0,0.0,c2,0.0,0.0,0.0,0.0,(-2.0)*c2,0.0,0.0,0.0,0.0,c2,0.0,0.0,0.0,0.0,0.0,0.0],[0.0,0.0,0.0,0.0,0.0,0.0,0.0,0.0,c1,(-2.0)*c1,0.0,0.0,0.0,0.0,0.0,0.0,0.0,0.0,0.0,0.0],[0.0,0.0,0.0,0.0,0.0,0.0,0.0,0.0,0.0,0.0,0.0,0.0,0.0,0.0,0.0,0.0,0.0,0.0,0.0,0.0],[0.0,0.0,0.0,0.0,0.0,0.0,c2,0.0,0.0,0.0,c1,(-2.0)*c2+(-2.0)*c1,c1,0.0,0.0,0.0,c2,0.0,0.0,0.0],[0.0,0.0,0.0,0.0,0.0,0.0,0.0,c2,0.0,0.0,0.0,c1,(-2.0)*c2+(-2.0)*c1,c1,0.0,0.0,0.0,c2,0.0,0.0],[0.0,0.0,0.0,0.0,0.0,0.0,0.0,0.0,c2,0.0,0.0,0.0,0.0,(-2.0)*c2,0.0,0.0,0.0,0.0,c2,0.0],[0.0,0.0,0.0,0.0,0.0,0.0,0.0,0.0,0.0,0.0,0.0,0.0,0.0,c1,(-2.0)*c1,0.0,0.0,0.0,0.0,0.0],[0.0,0.0,0.0,0.0,0.0,0.0,0.0,0.0,0.0,0.0,0.0,0.0,0.0,0.0,0.0,0.0,0.0,0.0,0.0,0.0],[0.0,0.0,0.0,0.0,0.0,0.0,0.0,0.0,0.0,0.0,0.0,0.0,0.0,0.0,0.0,c1,(-2.0)*c1,c1,0.0,0.0],[0.0,0.0,0.0,0.0,0.0,0.0,0.0,0.0,0.0,0.0,0.0,0.0,0.0,0.0,0.0,0.0,c1,(-2.0)*c1,c1,0.0],[0.0,0.0,0.0,0.0,0.0,0.0,0.0,0.0,0.0,0.0,0.0,0.0,0.0,0.0,0.0,0.0,0.0,0.0,0.0,0.0],[0.0,0.0,0.0,0.0,0.0,0.0,0.0,0.0,0.0,0.0,0.0,0.0,0.0,0.0,0.0,0.0,0.0,0.0,c1,(-2.0)*c1]]"
      ]
     },
     "metadata": {},
     "output_type": "display_data"
    }
   ],
   "source": [
    "fmap (N.elements . N.Prism . N.Prism . N.Scalar) $ N.elements $ N.crystal $ N.crystal $ N.binary (+) cc5Sym yy5Sym"
   ]
  },
  {
   "cell_type": "markdown",
   "metadata": {},
   "source": [
    "Fokker-Planck\n",
    "=============\n",
    "\n",
    "$$\n",
    "\\frac{\\partial}{\\partial t} p(t, \\mathbf{x})+\\sum_{k=1}^{n} \\frac{\\partial}{\\partial x_{k}}\\left(g_{k}(t, \\mathbf{x}) p(t, \\mathbf{x})\\right)=\\frac{1}{2} \\sum_{j=1, k=1}^{n} \\frac{\\partial^{2}}{\\partial x_{j} \\partial x_{k}}\\left[\\left(\\sigma(t, \\mathbf{x}) \\sigma^{T}(t, \\mathbf{x})\\right)_{j k} p(t, \\mathbf{x})\\right]\n",
    "$$\n",
    "\n",
    "$$\n",
    "\\frac{\\partial}{\\partial t} p(t, y, \\theta)+\\frac{\\partial}{\\partial y}(f(t, y, \\theta ; k) p(t, y, \\theta))=\\frac{1}{2}\\left[\\sigma_{y}^{2} \\frac{\\partial^{2}}{\\partial y^{2}} p(t, y, \\theta)+\\sigma_{\\theta}^{2} \\frac{\\partial^{2}}{\\partial \\theta^{2}} p(t, y, \\theta)\\right]\n",
    "$$\n",
    "\n",
    "$$\n",
    "\\frac{\\partial}{\\partial t} p(t, y, \\theta)+\\frac{\\partial}{\\partial y}(f(t, y, \\theta ; k) p(t, y, \\theta))=0\n",
    "$$\n",
    "\n",
    "Since\n",
    "\n",
    "$$\n",
    "\\dot{y}=\\theta y\\left(1-\\frac{y}{k}\\right)\n",
    "$$\n",
    "\n",
    "we have\n",
    "\n",
    "$$\n",
    "f(t, y, \\theta ; k)=\\theta y\\left(1-\\frac{y}{k}\\right)\n",
    "$$\n",
    "\n",
    "$$\n",
    "\\frac{\\partial p}{\\partial t} +\\frac{\\partial}{\\partial y}\\bigg(\\theta y\\bigg(1 - \\frac{y}{k}\\bigg) p\\bigg)=0\n",
    "$$\n",
    "\n",
    "$$\n",
    "\\frac{\\partial p}{\\partial t} + p\\frac{\\partial}{\\partial y}\\bigg(\\theta y\\bigg(1 - \\frac{y}{k}\\bigg) \\bigg) + \\theta y\\bigg(1 - \\frac{y}{k}\\bigg)\\frac{\\partial p}{\\partial y} = 0\n",
    "$$\n",
    "\n",
    "$$\n",
    "\\frac{\\partial p}{\\partial t} + p\\theta\\bigg(1 - \\frac{y}{k} - \\frac{y}{k}\\bigg) + \\theta y\\bigg(1 - \\frac{y}{k}\\bigg)\\frac{\\partial p}{\\partial y} = 0\n",
    "$$\n",
    "\n",
    "$$\n",
    "\\frac{\\partial p}{\\partial t} + \\theta y\\bigg(1 - \\frac{y}{k}\\bigg)\\frac{\\partial p}{\\partial y} = - p\\theta\\bigg(1 - \\frac{2y}{k}\\bigg)\n",
    "$$\n",
    "\n",
    "We can solve the transport PDE with initial condition\n",
    "$$\n",
    "\\left\\{\\begin{array}{l}{u_{t}+a u_{x}=0} \\\\ {u(x, 0)=\\phi(x)}\\end{array}\\right.\n",
    "$$\n",
    "\n",
    "using the Method of Characteristics with $a = 2$ and $\\phi (x) =\n",
    "e^{-x^2}$ to give the solutuion illustrated\n",
    "\n",
    "![](diagrams/transport.png)\n",
    "\n",
    "$$\n",
    "\\begin{aligned}\n",
    "\\frac{d S}{d t} &=-\\delta S(t) I(t) \\\\\n",
    "\\frac{d I}{d t} &=\\delta S(t) I(t)-\\gamma I(t) \\\\\n",
    "\\frac{d R}{d t} &=\\quad \\gamma I(t)\n",
    "\\end{aligned}\n",
    "$$\n",
    "\n",
    "$$\n",
    "\\begin{aligned}\n",
    "s^{\\prime}(t) &=-\\beta s(t) i(t)-\\mu s(t)+\\mu \\\\\n",
    "i^{\\prime}(t)    &= \\beta s(t) i(t)-\\mu i(t)\n",
    "\\end{aligned}\n",
    "$$\n"
   ]
  },
  {
   "cell_type": "markdown",
   "metadata": {},
   "source": [
    "$$\n",
    "\\begin{aligned}\n",
    "0 &=-\\beta s_{\\infty} i_{\\infty}-\\mu s_{\\infty}+\\mu \\\\\n",
    "0 &= \\beta s_{\\infty} i_{\\infty}-\\mu i_{\\infty}\n",
    "\\end{aligned}\n",
    "$$\n",
    "\n",
    "$$\n",
    "\\begin{aligned}\n",
    "0 &= -\\mu i_{\\infty} -\\mu s_{\\infty}+\\mu\n",
    "\\end{aligned}\n",
    "$$\n",
    "\n",
    "$$\n",
    "\\begin{aligned}\n",
    "s_{\\infty} + i_{\\infty} = 1\n",
    "\\end{aligned}\n",
    "$$\n",
    "\n",
    "$$\n",
    "\\begin{aligned}\n",
    "\\beta (1 - i_{\\infty})i_{\\infty} - \\mu i_{\\infty} &= 0 \\\\\n",
    "(1 - i_{\\infty}) i_{\\infty} - \\frac{\\mu}{\\beta} i_{\\infty} &= 0\n",
    "\\end{aligned}\n",
    "$$\n",
    "\n",
    "$$\n",
    "\\begin{aligned}\n",
    "i_{\\infty} &= 1 - \\frac{\\mu}{\\beta} \\\\\n",
    "s_{\\infty} &=     \\frac{\\mu}{\\beta}\n",
    "\\end{aligned}\n",
    "$$\n",
    "\n",
    "$$\n",
    "i(t)=\\frac{\\lambda}{\\beta+\\lambda\\left(\\frac{\\lambda-i_{0} \\beta}{\\lambda i_{0} e} \\frac{\\beta-i_{0} \\beta}{\\mu}\\right) e^{-\\lambda t+\\frac{\\beta\\left(s_{0}+i_{0}-1\\right)}{\\mu}}}\n",
    "$$\n",
    "\n",
    "If we let $t \\rightarrow \\infty$ then we obtain $i_{\\infty} =\n",
    "\\frac{\\lambda}{\\beta}$.\n",
    "\n",
    "$$\n",
    "\\left[ \\begin{array}{c}{y_{i}} \\\\ {\\theta_{i}}\\end{array}\\right]=\\left[ \\begin{array}{c}{\\frac{k y_{i-1} \\exp \\theta_{i-1}\\left(t_{i}-t_{i-1}\\right)}{k+y_{i-1}\\left(\\exp \\theta_{i-1}\\left(t_{i}-t_{i-1}\\right)-1\\right)}} \\\\ {\\theta_{i-1}}\\end{array}\\right]+\\psi_{i-1}\n",
    "$$\n",
    "\n",
    "We just need to apply the MoC to the PDE for the probability distribution.\n",
    "\n",
    "$$\n",
    "\\left[ \\begin{array}{c}{y_{i}} \\\\ {\\log \\theta_{i}}\\end{array}\\right]=\\left[ \\begin{array}{c}{\\frac{k y_{i-1} \\exp \\theta_{i-1}\\left(t_{i}-t_{i-1}\\right)}{k+y_{i-1}\\left(\\exp \\theta_{i-1}\\left(t_{i}-t_{i-1}\\right)-1\\right)}} \\\\ {\\log \\theta_{i-1}}\\end{array}\\right]+\\psi_{i-1}\n",
    "$$\n",
    "\n",
    "$$\n",
    "\\left[ \\begin{array}{c}{z_{i}}\\end{array}\\right]=\\left[ \\begin{array}{ll}{1} & {0}\\end{array}\\right] \\left[ \\begin{array}{l}{y_{i}} \\\\ {\\theta_{i}}\\end{array}\\right]+\\nu_{i}\n",
    "$$\n",
    "\n",
    "$$\n",
    "\\psi_{i} \\sim \\mathcal{N}(0, Q)\n",
    "$$\n",
    "\n",
    "$$\n",
    "v_{i} \\sim \\mathcal{N}(0, R)\n",
    "$$\n",
    "\n",
    "$$\n",
    "f(t, y, \\theta ; k)=\\frac{k y_{0} \\exp \\theta t}{k+y_{0}(\\exp \\theta t-1)}\n",
    "$$\n",
    "\n",
    "$$\n",
    "\\dot{y}=\\theta y\\left(1-\\frac{y}{k}\\right)\n",
    "$$\n",
    "\n",
    "$$\n",
    "y=\\frac{k y_{0} \\exp \\theta t}{k+y_{0}(\\exp \\theta t-1)}\n",
    "$$\n"
   ]
  },
  {
   "cell_type": "markdown",
   "metadata": {
    "ein.tags": "worksheet-0",
    "slideshow": {
     "slide_type": "-"
    }
   },
   "source": [
    "Let us solve the heat equation over the unit square to some arbitrary\n",
    "point in the future."
   ]
  },
  {
   "cell_type": "markdown",
   "metadata": {
    "ein.tags": "worksheet-0",
    "slideshow": {
     "slide_type": "-"
    }
   },
   "source": [
    "$$\n",
    "\\frac{\\partial u}{\\partial t}=k_{x} \\frac{\\partial^{2} u}{\\partial x^{2}}+k_{y} \\frac{\\partial^{2} u}{\\partial y^{2}}+h\n",
    "$$\n",
    "\n",
    "with initial condition $u(0, x, y) = 0$ and stationary boundary conditions\n",
    "\n",
    "$$\n",
    "\\frac{\\partial u}{\\partial t}(t, 0, y)=\\frac{\\partial u}{\\partial t}(t, 1, y)=\\frac{\\partial u}{\\partial t}(t, x, 0)=\\frac{\\partial u}{\\partial t}(t, x, 1)=0\n",
    "$$\n",
    "\n",
    "and a periodic heat source\n",
    "\n",
    "$$\n",
    "h(x, y)=\\sin (\\pi x) \\sin (2 \\pi y)\n",
    "$$\n",
    "\n",
    "This has analytic solution\n",
    "\n",
    "$$\n",
    "u(t, x, y)=\\frac{1-e^{-\\left(k_{x}+4 k_{y}\\right) \\pi^{2} t}}{\\left(k_{x}+4 k_{y}\\right) \\pi^{2}} \\sin (\\pi x) \\sin (2 \\pi y)\n",
    "$$\n",
    "\n",
    "$$\n",
    "u_{i\\,j}(t) \\triangleq u\\left(t, x_{i}, y_{j}\\right), \\quad x_{i} \\triangleq i \\Delta x, \\quad 0 \\leq j \\leq n+1, \\quad  y_{j} \\triangleq j \\Delta y\n",
    "$$\n",
    "\n",
    "\n",
    "$$\n",
    "\\begin{align}\n",
    "u_{x x} &= \\frac{u_{i+1\\,j}-2 u_{i\\,j}+u_{i-1\\,j}}{\\Delta x^{2}} \\\\\n",
    "u_{y y} &= \\frac{u_{i\\,j+1}-2 u_{i\\,j}+u_{i\\,j-1}}{\\Delta y^{2}}\n",
    "\\end{align}\n",
    "$$\n",
    "\n",
    "$$\n",
    "\\dot{u}_{i\\, j} = \\frac{k_x}{(\\Delta x)^2}({u_{i+1\\,j}-2 u_{i\\,j}+u_{i-1\\,j}})\n",
    "                + \\frac{k_y}{(\\Delta y)^2}({u_{i\\,j+1}-2 u_{i\\,j}+u_{i\\,j-1}})\n",
    "$$\n",
    "\n",
    "$$\n",
    "\\dot{u}_{i\\, j} = \\sum_{k=0}^{n+1}\\sum_{l=0}^{n+1}A_{i\\,j\\,k\\,l} u_{k\\,l}\n",
    "$$\n",
    "\n",
    "$$\n",
    "\\begin{align}\n",
    "A_{0\\,j\\,k\\,l} &= 0 \\\\\n",
    "A_{i\\,j\\,i-1\\,j} &= 1 \\\\\n",
    "A_{i\\,j\\,i\\,j} &= -2 \\\\\n",
    "A_{i\\,j\\,i+1\\,j} &= 1 \\\\\n",
    "A_{n+1\\,j\\,k\\,l} &= 0 \\\\\n",
    "\\end{align}\n",
    "$$"
   ]
  },
  {
   "cell_type": "code",
   "execution_count": 1,
   "metadata": {
    "autoscroll": false,
    "ein.hycell": false,
    "ein.tags": "worksheet-0",
    "slideshow": {
     "slide_type": "-"
    }
   },
   "outputs": [],
   "source": [
    "{-# LANGUAGE DataKinds #-}\n",
    "{-# LANGUAGE OverloadedLists       #-}\n",
    "{-# LANGUAGE ScopedTypeVariables #-}\n",
    "{-# LANGUAGE FlexibleContexts    #-}\n",
    "{-# LANGUAGE GADTs               #-}"
   ]
  },
  {
   "cell_type": "code",
   "execution_count": 2,
   "metadata": {
    "autoscroll": false,
    "ein.hycell": false,
    "ein.tags": "worksheet-0",
    "slideshow": {
     "slide_type": "-"
    }
   },
   "outputs": [],
   "source": [
    "import Data.Maybe\n",
    "import Data.Number.Symbolic\n",
    "import Data.Proxy\n",
    "\n",
    "import qualified Naperian as N\n",
    "import qualified Data.Foldable as F\n",
    "import           Control.Applicative ( liftA2 )\n",
    "import qualified GHC.TypeLits as M\n",
    "\n",
    "import           Numeric.Sundials.ARKode.ODE\n",
    "import           Numeric.LinearAlgebra"
   ]
  },
  {
   "cell_type": "code",
   "execution_count": 3,
   "metadata": {
    "autoscroll": false,
    "ein.hycell": false,
    "ein.tags": "worksheet-0",
    "slideshow": {
     "slide_type": "-"
    }
   },
   "outputs": [],
   "source": [
    "x1, a, x2 :: Double\n",
    "x1 = 0\n",
    "a = 1.0\n",
    "x2 = a"
   ]
  },
  {
   "cell_type": "code",
   "execution_count": 4,
   "metadata": {
    "autoscroll": false,
    "ein.hycell": false,
    "ein.tags": "worksheet-0",
    "slideshow": {
     "slide_type": "-"
    }
   },
   "outputs": [],
   "source": [
    "y1, y2 :: Double\n",
    "y1 = 0.0\n",
    "y2 = 1.0"
   ]
  },
  {
   "cell_type": "code",
   "execution_count": 5,
   "metadata": {
    "autoscroll": false,
    "ein.hycell": false,
    "ein.tags": "worksheet-0",
    "slideshow": {
     "slide_type": "-"
    }
   },
   "outputs": [],
   "source": [
    "bigT :: Double\n",
    "bigT = 1000.0"
   ]
  },
  {
   "cell_type": "code",
   "execution_count": 6,
   "metadata": {
    "autoscroll": false,
    "ein.hycell": false,
    "ein.tags": "worksheet-0",
    "slideshow": {
     "slide_type": "-"
    }
   },
   "outputs": [],
   "source": [
    "n :: Int\n",
    "n = 2"
   ]
  },
  {
   "cell_type": "code",
   "execution_count": 7,
   "metadata": {
    "autoscroll": false,
    "ein.hycell": false,
    "ein.tags": "worksheet-0",
    "slideshow": {
     "slide_type": "-"
    }
   },
   "outputs": [],
   "source": [
    "dx :: Double\n",
    "dx = a / (fromIntegral n + 1)"
   ]
  },
  {
   "cell_type": "code",
   "execution_count": 8,
   "metadata": {
    "autoscroll": false,
    "ein.hycell": false,
    "ein.tags": "worksheet-0",
    "slideshow": {
     "slide_type": "-"
    }
   },
   "outputs": [],
   "source": [
    "dy :: Double\n",
    "dy = a / (fromIntegral n + 1)"
   ]
  },
  {
   "cell_type": "code",
   "execution_count": 9,
   "metadata": {
    "autoscroll": false,
    "ein.hycell": false,
    "ein.tags": "worksheet-0",
    "slideshow": {
     "slide_type": "-"
    }
   },
   "outputs": [],
   "source": [
    "beta, s :: Double\n",
    "beta = 1.0e-5\n",
    "s = beta / (dx * dx)"
   ]
  },
  {
   "cell_type": "markdown",
   "metadata": {
    "ein.tags": "worksheet-0",
    "slideshow": {
     "slide_type": "-"
    }
   },
   "source": [
    "Heat conductivity coefficients"
   ]
  },
  {
   "cell_type": "code",
   "execution_count": 10,
   "metadata": {
    "autoscroll": false,
    "ein.hycell": false,
    "ein.tags": "worksheet-0",
    "slideshow": {
     "slide_type": "-"
    }
   },
   "outputs": [],
   "source": [
    "kx, ky :: Double\n",
    "kx = 0.5\n",
    "ky = 0.75"
   ]
  },
  {
   "cell_type": "code",
   "execution_count": 11,
   "metadata": {
    "autoscroll": false,
    "ein.hycell": false,
    "ein.tags": "worksheet-0",
    "slideshow": {
     "slide_type": "-"
    }
   },
   "outputs": [],
   "source": [
    "c1, c2 :: Double\n",
    "c1 = kx/dx/dx\n",
    "c2 = ky/dy/dy"
   ]
  },
  {
   "cell_type": "markdown",
   "metadata": {
    "ein.tags": "worksheet-0",
    "slideshow": {
     "slide_type": "-"
    }
   },
   "source": [
    "We want to turn this into a matrix equation so that we can use `hmatrix-sundials`"
   ]
  },
  {
   "cell_type": "code",
   "execution_count": 12,
   "metadata": {
    "autoscroll": false,
    "ein.hycell": false,
    "ein.tags": "worksheet-0",
    "slideshow": {
     "slide_type": "-"
    }
   },
   "outputs": [],
   "source": [
    "bigAA1 :: Matrix Double\n",
    "bigAA1 = assoc (n * n, n * n) 0.0 [((i, j), f (i, j)) | i <- [0 .. n * n - 1]\n",
    "                                                      , j <- [i - n, i,  i + n]\n",
    "                                                      , j `elem` [0 .. n * n -1]]\n",
    "  where\n",
    "    f (i, j) | i     == j = (-2.0) * c1\n",
    "             | i - n == j = 1.0    * c1\n",
    "             | i + n == j = 1.0    * c1\n",
    "             | otherwise = error $ show (i, j)\n",
    "\n",
    "bigAA2 :: Matrix Double\n",
    "bigAA2 = diagBlock (replicate n bigA)\n",
    "  where\n",
    "    bigA :: Matrix Double\n",
    "    bigA = assoc (n, n) 0.0 [((i, j), f (i, j)) | i <- [0 .. n - 1]\n",
    "                                                , j <- [i-1..i+1]\n",
    "                                                , j `elem` [0..n-1]]\n",
    "      where\n",
    "        f (i, j) | i     == j = (-2.0) * c2\n",
    "                 | i - 1 == j = 1.0    * c2\n",
    "                 | i + 1 == j = 1.0    * c2\n",
    "\n",
    "bigAA :: Matrix Double\n",
    "bigAA = bigAA1 + bigAA2"
   ]
  },
  {
   "cell_type": "code",
   "execution_count": 13,
   "metadata": {
    "autoscroll": false,
    "ein.hycell": false,
    "ein.tags": "worksheet-0",
    "slideshow": {
     "slide_type": "-"
    }
   },
   "outputs": [
    {
     "data": {
      "text/plain": [
       "(4><4)\n",
       " [ -9.0,  0.0,  4.5,  0.0\n",
       " ,  0.0, -9.0,  0.0,  4.5\n",
       " ,  4.5,  0.0, -9.0,  0.0\n",
       " ,  0.0,  4.5,  0.0, -9.0 ]"
      ]
     },
     "metadata": {},
     "output_type": "display_data"
    }
   ],
   "source": [
    "bigAA1"
   ]
  },
  {
   "cell_type": "code",
   "execution_count": 14,
   "metadata": {
    "autoscroll": false,
    "ein.hycell": false,
    "ein.tags": "worksheet-0",
    "slideshow": {
     "slide_type": "-"
    }
   },
   "outputs": [
    {
     "data": {
      "text/plain": [
       "(4><4)\n",
       " [ -13.5,  6.75,   0.0,   0.0\n",
       " ,  6.75, -13.5,   0.0,   0.0\n",
       " ,   0.0,   0.0, -13.5,  6.75\n",
       " ,   0.0,   0.0,  6.75, -13.5 ]"
      ]
     },
     "metadata": {},
     "output_type": "display_data"
    }
   ],
   "source": [
    "bigAA2"
   ]
  },
  {
   "cell_type": "markdown",
   "metadata": {
    "ein.tags": "worksheet-0",
    "slideshow": {
     "slide_type": "-"
    }
   },
   "source": [
    "$$\n",
    "h(x, y)=\\sin (\\pi x) \\sin (2 \\pi y)\n",
    "$$"
   ]
  },
  {
   "cell_type": "code",
   "execution_count": 15,
   "metadata": {
    "autoscroll": false,
    "ein.hycell": false,
    "ein.tags": "worksheet-0",
    "slideshow": {
     "slide_type": "-"
    }
   },
   "outputs": [
    {
     "data": {
      "text/plain": [
       "2"
      ]
     },
     "metadata": {},
     "output_type": "display_data"
    }
   ],
   "source": [
    "n"
   ]
  },
  {
   "cell_type": "code",
   "execution_count": 16,
   "metadata": {
    "autoscroll": false,
    "ein.hycell": false,
    "ein.tags": "worksheet-0",
    "slideshow": {
     "slide_type": "-"
    }
   },
   "outputs": [],
   "source": [
    "bigZZ1 :: Matrix Double\n",
    "bigZZ1 = assoc (m * m, m * m) 0.0 [((i, j), f (i, j)) | i <- [0 .. m * m - 1]\n",
    "                                                      , j <- [0 .. m * m - 1]]\n",
    "  where\n",
    "    m = n + 2\n",
    "    f (i, j) | i     == 0     = 0.0\n",
    "             | j     == 0     = 0.0\n",
    "             | i     == j     = (-2.0) * c1\n",
    "             | i - n == j     = 1.0    * c1\n",
    "             | i + n == j     = 1.0    * c1\n",
    "             | i     == n + 1 = 0.0\n",
    "             | j     == n + 1 = 0.0\n",
    "             | otherwise      = 0.0\n"
   ]
  },
  {
   "cell_type": "code",
   "execution_count": 17,
   "metadata": {
    "autoscroll": false,
    "ein.hycell": false,
    "ein.tags": "worksheet-0",
    "scrolled": true,
    "slideshow": {
     "slide_type": "-"
    }
   },
   "outputs": [
    {
     "data": {
      "text/plain": [
       "(16><16)\n",
       " [ 0.0,  0.0,  0.0,  0.0,  0.0,  0.0,  0.0,  0.0,  0.0,  0.0,  0.0,  0.0,  0.0,  0.0,  0.0,  0.0\n",
       " , 0.0, -9.0,  0.0,  4.5,  0.0,  0.0,  0.0,  0.0,  0.0,  0.0,  0.0,  0.0,  0.0,  0.0,  0.0,  0.0\n",
       " , 0.0,  0.0, -9.0,  0.0,  4.5,  0.0,  0.0,  0.0,  0.0,  0.0,  0.0,  0.0,  0.0,  0.0,  0.0,  0.0\n",
       " , 0.0,  4.5,  0.0, -9.0,  0.0,  4.5,  0.0,  0.0,  0.0,  0.0,  0.0,  0.0,  0.0,  0.0,  0.0,  0.0\n",
       " , 0.0,  0.0,  4.5,  0.0, -9.0,  0.0,  4.5,  0.0,  0.0,  0.0,  0.0,  0.0,  0.0,  0.0,  0.0,  0.0\n",
       " , 0.0,  0.0,  0.0,  4.5,  0.0, -9.0,  0.0,  4.5,  0.0,  0.0,  0.0,  0.0,  0.0,  0.0,  0.0,  0.0\n",
       " , 0.0,  0.0,  0.0,  0.0,  4.5,  0.0, -9.0,  0.0,  4.5,  0.0,  0.0,  0.0,  0.0,  0.0,  0.0,  0.0\n",
       " , 0.0,  0.0,  0.0,  0.0,  0.0,  4.5,  0.0, -9.0,  0.0,  4.5,  0.0,  0.0,  0.0,  0.0,  0.0,  0.0\n",
       " , 0.0,  0.0,  0.0,  0.0,  0.0,  0.0,  4.5,  0.0, -9.0,  0.0,  4.5,  0.0,  0.0,  0.0,  0.0,  0.0\n",
       " , 0.0,  0.0,  0.0,  0.0,  0.0,  0.0,  0.0,  4.5,  0.0, -9.0,  0.0,  4.5,  0.0,  0.0,  0.0,  0.0\n",
       " , 0.0,  0.0,  0.0,  0.0,  0.0,  0.0,  0.0,  0.0,  4.5,  0.0, -9.0,  0.0,  4.5,  0.0,  0.0,  0.0\n",
       " , 0.0,  0.0,  0.0,  0.0,  0.0,  0.0,  0.0,  0.0,  0.0,  4.5,  0.0, -9.0,  0.0,  4.5,  0.0,  0.0\n",
       " , 0.0,  0.0,  0.0,  0.0,  0.0,  0.0,  0.0,  0.0,  0.0,  0.0,  4.5,  0.0, -9.0,  0.0,  4.5,  0.0\n",
       " , 0.0,  0.0,  0.0,  0.0,  0.0,  0.0,  0.0,  0.0,  0.0,  0.0,  0.0,  4.5,  0.0, -9.0,  0.0,  4.5\n",
       " , 0.0,  0.0,  0.0,  0.0,  0.0,  0.0,  0.0,  0.0,  0.0,  0.0,  0.0,  0.0,  4.5,  0.0, -9.0,  0.0\n",
       " , 0.0,  0.0,  0.0,  0.0,  0.0,  0.0,  0.0,  0.0,  0.0,  0.0,  0.0,  0.0,  0.0,  4.5,  0.0, -9.0 ]"
      ]
     },
     "metadata": {},
     "output_type": "display_data"
    }
   ],
   "source": [
    "bigZZ1"
   ]
  },
  {
   "cell_type": "markdown",
   "metadata": {
    "autoscroll": false,
    "ein.hycell": false,
    "ein.tags": "worksheet-0",
    "slideshow": {
     "slide_type": "-"
    }
   },
   "source": [
    "$$\n",
    "\\dot{u}_{i\\, j} = \\frac{k_x}{(\\Delta x)^2}({u_{i+1\\,j}-2 u_{i\\,j}+u_{i-1\\,j}})\n",
    "                + \\frac{k_y}{(\\Delta y)^2}({u_{i\\,j+1}-2 u_{i\\,j}+u_{i\\,j-1}})\n",
    "$$"
   ]
  },
  {
   "cell_type": "code",
   "execution_count": 18,
   "metadata": {
    "autoscroll": false,
    "ein.hycell": false,
    "ein.tags": "worksheet-0",
    "slideshow": {
     "slide_type": "-"
    }
   },
   "outputs": [],
   "source": [
    "x :: forall m n . (M.KnownNat m, M.KnownNat n) => N.Vector n (N.Vector m (Sym Int))\n",
    "x = (fromJust . N.fromList) $\n",
    "    map (fromJust . N.fromList) ([[var $ (\\(x,y) -> \"A\" ++ show x ++ \",\" ++ show y) (x,y) | y <- [1..m]] | x <- [1..n]] :: [[Sym Int]])\n",
    "    where\n",
    "      m = M.natVal (undefined :: Proxy m)\n",
    "      n = M.natVal (undefined :: Proxy n)"
   ]
  },
  {
   "cell_type": "code",
   "execution_count": 19,
   "metadata": {
    "autoscroll": false,
    "ein.hycell": false,
    "ein.tags": "worksheet-0",
    "slideshow": {
     "slide_type": "-"
    }
   },
   "outputs": [],
   "source": [
    "u1 :: N.Hyper '[N.Vector 3, N.Vector 2] (Sym Int)\n",
    "u1 = N.Prism $ N.Prism (N.Scalar x)"
   ]
  },
  {
   "cell_type": "code",
   "execution_count": 20,
   "metadata": {
    "autoscroll": false,
    "ein.hycell": false,
    "ein.tags": "worksheet-0",
    "slideshow": {
     "slide_type": "-"
    }
   },
   "outputs": [
    {
     "data": {
      "text/plain": [
       "<<A1,1,A1,2,A1,3>,<A2,1,A2,2,A2,3>>"
      ]
     },
     "metadata": {},
     "output_type": "display_data"
    }
   ],
   "source": [
    "u1"
   ]
  },
  {
   "cell_type": "code",
   "execution_count": 21,
   "metadata": {
    "autoscroll": false,
    "ein.hycell": false,
    "ein.tags": "worksheet-0",
    "slideshow": {
     "slide_type": "-"
    }
   },
   "outputs": [],
   "source": [
    "y :: forall n . M.KnownNat n => N.Vector n (Sym Int)\n",
    "y = (fromJust . N.fromList) $\n",
    "    (map (var . (\"v\" ++) . show) [1..n ] :: [Sym Int])\n",
    "    where\n",
    "    n = M.natVal (undefined :: Proxy n)"
   ]
  },
  {
   "cell_type": "code",
   "execution_count": 22,
   "metadata": {
    "autoscroll": false,
    "ein.hycell": false,
    "ein.tags": "worksheet-0",
    "slideshow": {
     "slide_type": "-"
    }
   },
   "outputs": [],
   "source": [
    "u2 :: N.Hyper '[N.Vector 3] (Sym Int)\n",
    "u2 = N.Prism (N.Scalar y)"
   ]
  },
  {
   "cell_type": "code",
   "execution_count": 23,
   "metadata": {
    "autoscroll": false,
    "ein.hycell": false,
    "ein.tags": "worksheet-0",
    "slideshow": {
     "slide_type": "-"
    }
   },
   "outputs": [
    {
     "data": {
      "text/plain": [
       "<A1,1*v1+A1,2*v2+A1,3*v3,A2,1*v1+A2,2*v2+A2,3*v3>"
      ]
     },
     "metadata": {},
     "output_type": "display_data"
    }
   ],
   "source": [
    "N.innerH u1 u2"
   ]
  }
 ],
 "metadata": {
  "kernelspec": {
   "display_name": "Haskell",
   "language": "haskell",
   "name": "haskell"
  },
  "language_info": {
   "codemirror_mode": "ihaskell",
   "file_extension": ".hs",
   "name": "haskell",
   "pygments_lexer": "Haskell",
   "version": "8.6.4"
  },
  "name": "Two Dimensional Heat Equation.ipynb"
 },
 "nbformat": 4,
 "nbformat_minor": 2
}
